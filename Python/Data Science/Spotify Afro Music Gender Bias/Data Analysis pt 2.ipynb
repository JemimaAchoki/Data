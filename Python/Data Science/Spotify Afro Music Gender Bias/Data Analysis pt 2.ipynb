{
 "cells": [
  {
   "cell_type": "markdown",
   "id": "b2ba56b6",
   "metadata": {},
   "source": [
    "# Loading and cleaning the data set"
   ]
  },
  {
   "cell_type": "code",
   "execution_count": null,
   "id": "41f58469",
   "metadata": {},
   "outputs": [],
   "source": [
    "import pandas as pd\n",
    "from sklearn.preprocessing import MinMaxScaler\n",
    "import seaborn as sns\n",
    "from sklearn.cluster import KMeans\n",
    "from sklearn.decomposition import PCA\n",
    "from sklearn.decomposition import SparsePCA\n",
    "from sklearn.manifold import TSNE\n",
    "import matplotlib.pyplot as plt\n",
    "from pathlib import Path\n",
    "import altair as alt "
   ]
  },
  {
   "cell_type": "code",
   "execution_count": null,
   "id": "52783ef3",
   "metadata": {},
   "outputs": [],
   "source": [
    "gender_music_df = pd.read_csv('nigerian_spotify_songs1.csv', skipinitialspace=True)\n",
    "gender =gender_music_df.columns[16]\n",
    "gender_music_df =gender_music_df.rename(columns = {gender:'gender'})\n",
    "gender_music_df"
   ]
  },
  {
   "cell_type": "markdown",
   "id": "023fdf67",
   "metadata": {},
   "source": [
    "Getting rid of missing values"
   ]
  },
  {
   "cell_type": "code",
   "execution_count": null,
   "id": "adf6ba37",
   "metadata": {},
   "outputs": [],
   "source": [
    "gender_music_df_1 = gender_music_df.dropna()\n",
    "gender_music_df_1 = gender_music_df_1[gender_music_df_1.artist_top_genre != 'na']\n",
    "gender_music_df_1 = gender_music_df_1[gender_music_df_1.gender != 'n.a']\n",
    "gender_music_df_1"
   ]
  },
  {
   "cell_type": "code",
   "execution_count": null,
   "id": "8de72a27",
   "metadata": {},
   "outputs": [],
   "source": [
    "len(gender_music_df_1['artist'].unique())\n"
   ]
  },
  {
   "cell_type": "markdown",
   "id": "d415854c",
   "metadata": {},
   "source": [
    "# What is popularity determined by- A linear regression "
   ]
  },
  {
   "cell_type": "markdown",
   "id": "c08b0899",
   "metadata": {},
   "source": [
    "Linear regression analysis shows that the only statistically signficant relationship between popularity and any other variable is the the negatve relationship between popularity and energy\n",
    "\n",
    "This is good becasue it shows ua that the popularity of a song is likely determined by personal likes and factors determined outside of the technicalities to do with a song "
   ]
  },
  {
   "cell_type": "markdown",
   "id": "9fcbce78",
   "metadata": {},
   "source": [
    "Trying a correlation matrix"
   ]
  },
  {
   "cell_type": "code",
   "execution_count": null,
   "id": "85e8b30f",
   "metadata": {
    "scrolled": true
   },
   "outputs": [],
   "source": [
    "corrMatrix = gender_music_df_1.corr()\n",
    "sns.heatmap(corrMatrix, annot=True)\n",
    "\n",
    "plt.show()\n",
    "\n"
   ]
  },
  {
   "cell_type": "markdown",
   "id": "3ba045b3",
   "metadata": {},
   "source": [
    "# Based on my data set what is the split between genders"
   ]
  },
  {
   "cell_type": "markdown",
   "id": "9e7bc1e6",
   "metadata": {},
   "source": [
    "Overall split- shown in a table"
   ]
  },
  {
   "cell_type": "code",
   "execution_count": null,
   "id": "e76e8b06",
   "metadata": {},
   "outputs": [],
   "source": [
    "uniqueValues = gender_music_df_1['gender'].unique()\n",
    "print(uniqueValues)"
   ]
  },
  {
   "cell_type": "code",
   "execution_count": null,
   "id": "09c990fe",
   "metadata": {},
   "outputs": [],
   "source": [
    "Gender = ['Male', 'Male Group', 'Female', 'Mixed Group']\n",
    "Gender\n",
    "type(Gender)"
   ]
  },
  {
   "cell_type": "code",
   "execution_count": null,
   "id": "4d8c0cf3",
   "metadata": {
    "scrolled": false
   },
   "outputs": [],
   "source": [
    "Absolute_Count = [gender_music_df_1['gender'].tolist().count('Male'),\n",
    "                  gender_music_df_1['gender'].tolist().count('Male Group'),\n",
    "                  gender_music_df_1['gender'].tolist().count('Female'),\n",
    "                  gender_music_df_1['gender'].tolist().count('Mixed Group')]\n",
    "Absolute_Count"
   ]
  },
  {
   "cell_type": "code",
   "execution_count": null,
   "id": "b95f66ee",
   "metadata": {},
   "outputs": [],
   "source": [
    "total = 375+38+28+2\n",
    "total\n",
    "\n",
    "Proportion = [round((375/total)*100,2), \n",
    "             round((38/total)*100,2), \n",
    "              round((28/total)*100,2),\n",
    "             round((2/total)*100,2)]\n",
    "Proportion"
   ]
  },
  {
   "cell_type": "code",
   "execution_count": null,
   "id": "346cdc67",
   "metadata": {
    "scrolled": false
   },
   "outputs": [],
   "source": [
    "Table = {'Gender':Gender , 'Absolute Count': Absolute_Count, 'Proportion':Proportion}\n",
    "\n",
    "Table\n",
    "\n",
    "Gender_split = pd.DataFrame(Table)\n",
    "Gender_split"
   ]
  },
  {
   "cell_type": "code",
   "execution_count": null,
   "id": "0b163bb7",
   "metadata": {
    "scrolled": false
   },
   "outputs": [],
   "source": [
    "alt.Chart(Gender_split).mark_bar().encode(\n",
    "    x='Gender',\n",
    "    y='Absolute Count',\n",
    "    color='Gender').properties(\n",
    "    width= 800,\n",
    "    height=500, title= 'Gender differences in music industry- Absolute Count')\n"
   ]
  },
  {
   "cell_type": "code",
   "execution_count": null,
   "id": "3ecd1f3c",
   "metadata": {},
   "outputs": [],
   "source": [
    "\n",
    "alt.Chart(Gender_split).mark_bar().encode(\n",
    "    x='Gender',\n",
    "    y = 'Proportion',\n",
    "    color='Gender').properties(\n",
    "    width= 800,\n",
    "    height=500, title= 'Proportional gender differences in music industry')"
   ]
  },
  {
   "cell_type": "markdown",
   "id": "4804f670",
   "metadata": {},
   "source": [
    "Spit by genres- shown in a table - Gender gap in genres"
   ]
  },
  {
   "cell_type": "code",
   "execution_count": null,
   "id": "d2f89fcd",
   "metadata": {
    "scrolled": false
   },
   "outputs": [],
   "source": [
    "uniqueValues = gender_music_df_1['artist_top_genre'].unique()\n",
    "print(uniqueValues)"
   ]
  },
  {
   "cell_type": "code",
   "execution_count": null,
   "id": "b46ee810",
   "metadata": {},
   "outputs": [],
   "source": [
    "Genre =gender_music_df_1['artist_top_genre'].unique()\n",
    "Genre"
   ]
  },
  {
   "cell_type": "code",
   "execution_count": null,
   "id": "d2fc583c",
   "metadata": {},
   "outputs": [],
   "source": [
    "Genre_1 = ['alternative r&b', 'afropop', 'indie r&b', 'nigerian pop',\n",
    "       'afro r&b', 'afro dancehall', 'azonto', 'soft rock', 'hiplife',\n",
    "       'erotica', 'nigerian hip hop', 'highlife', 'azontobeats',\n",
    "       'south african house', 'bongo flava', 'afroswing', 'gqom',\n",
    "       'christian afrobeat','alternative r&b', 'afropop', 'indie r&b', 'nigerian pop',\n",
    "       'afro r&b', 'afro dancehall', 'azonto', 'soft rock', 'hiplife',\n",
    "       'erotica', 'nigerian hip hop', 'highlife', 'azontobeats',\n",
    "       'south african house', 'bongo flava', 'afroswing', 'gqom',\n",
    "       'christian afrobeat','alternative r&b', 'afropop', 'indie r&b', 'nigerian pop',\n",
    "       'afro r&b', 'afro dancehall', 'azonto', 'soft rock', 'hiplife',\n",
    "       'erotica', 'nigerian hip hop', 'highlife', 'azontobeats',\n",
    "       'south african house', 'bongo flava', 'afroswing', 'gqom',\n",
    "       'christian afrobeat','alternative r&b', 'afropop', 'indie r&b', 'nigerian pop',\n",
    "       'afro r&b', 'afro dancehall', 'azonto', 'soft rock', 'hiplife',\n",
    "       'erotica', 'nigerian hip hop', 'highlife', 'azontobeats',\n",
    "       'south african house', 'bongo flava', 'afroswing', 'gqom',\n",
    "       'christian afrobeat']\n",
    "Genre_1\n",
    "print(len(Genre_1), len(Genre_1), len(Genre_1))"
   ]
  },
  {
   "cell_type": "code",
   "execution_count": null,
   "id": "e55282e1",
   "metadata": {},
   "outputs": [],
   "source": [
    "Male_Gender = ['Male', 'Male', 'Male', 'Male', 'Male', 'Male', 'Male',\n",
    "               'Male', 'Male', 'Male', 'Male', 'Male', 'Male','Male', 'Male', 'Male', 'Male','Male' ,]\n",
    "\n",
    "Male_Group_Gender = ['Male Group', 'Male Group', 'Male Group', 'Male Group', 'Male Group', 'Male Group', 'Male Group', \n",
    "                     'Male Group', 'Male Group', 'Male Group', 'Male Group', 'Male Group', 'Male Group','Male Group',\n",
    "                    'Male Group', 'Male Group', 'Male Group', 'Male Group',]\n",
    "Female = ['Female', 'Female', 'Female', 'Female','Female','Female','Female','Female','Female','Female','Female',\n",
    "          'Female','Female','Female', 'Female', 'Female', 'Female', 'Female',]\n",
    "Mixed_Group = ['Mixed Group', 'Mixed Group', 'Mixed Group', 'Mixed Group', 'Mixed Group', 'Mixed Group', \n",
    "               'Mixed Group', 'Mixed Group', 'Mixed Group', 'Mixed Group', 'Mixed Group', 'Mixed Group', \n",
    "               'Mixed Group', 'Mixed Group', 'Mixed Group', 'Mixed Group', 'Mixed Group', 'Mixed Group', ]\n",
    "\n",
    "Female\n",
    "print(len(Male_Gender), len(Male_Group_Gender), len(Female), len(Mixed_Group))"
   ]
  },
  {
   "cell_type": "code",
   "execution_count": null,
   "id": "251a5be0",
   "metadata": {},
   "outputs": [],
   "source": [
    "Gender_1 = ['Male', 'Male', 'Male', 'Male', 'Male', 'Male', 'Male','Male', 'Male', 'Male', 'Male', \n",
    "            'Male', 'Male','Male', 'Male', 'Male', 'Male','Male' ,'Male Group', 'Male Group', 'Male Group', \n",
    "            'Male Group', 'Male Group', 'Male Group', 'Male Group', 'Male Group', 'Male Group', 'Male Group', \n",
    "            'Male Group', 'Male Group', 'Male Group','Male Group','Male Group', 'Male Group', 'Male Group', \n",
    "            'Male Group','Female', 'Female', 'Female', 'Female','Female','Female','Female','Female','Female','Female',\n",
    "            'Female', 'Female','Female','Female', 'Female', 'Female', 'Female', 'Female', 'Mixed Group', 'Mixed Group',\n",
    "            'Mixed Group', 'Mixed Group', 'Mixed Group', 'Mixed Group',  'Mixed Group', 'Mixed Group', 'Mixed Group', \n",
    "            'Mixed Group', 'Mixed Group', 'Mixed Group','Mixed Group', 'Mixed Group', 'Mixed Group', 'Mixed Group', 'Mixed Group', 'Mixed Group', \n",
    "           ]\n",
    "Gender_1\n",
    "print(len(Gender_1))"
   ]
  },
  {
   "cell_type": "code",
   "execution_count": null,
   "id": "fba17828",
   "metadata": {
    "scrolled": false
   },
   "outputs": [],
   "source": [
    "Absolute_Count_Male = [len(((gender_music_df_1[(gender_music_df_1['gender'] == 'Male') & \n",
    "                         (gender_music_df_1['artist_top_genre'] =='alternative r&b')]))), \n",
    "                        len(((gender_music_df_1[(gender_music_df_1['gender'] == 'Male') & \n",
    "                         (gender_music_df_1['artist_top_genre'] =='afropop')]))),\n",
    "                       len(((gender_music_df_1[(gender_music_df_1['gender'] == 'Male') & \n",
    "                         (gender_music_df_1['artist_top_genre'] =='indie r&b')]))),\n",
    "                        len(((gender_music_df_1[(gender_music_df_1['gender'] == 'Male') & \n",
    "                         (gender_music_df_1['artist_top_genre'] =='nigerian pop')]))),\n",
    "                        len(((gender_music_df_1[(gender_music_df_1['gender'] == 'Male') & \n",
    "                         (gender_music_df_1['artist_top_genre'] =='afro r&b')]))),\n",
    "                        len(((gender_music_df_1[(gender_music_df_1['gender'] == 'Male') & \n",
    "                         (gender_music_df_1['artist_top_genre'] =='afro dancehall')]))),\n",
    "                        len(((gender_music_df_1[(gender_music_df_1['gender'] == 'Male') & \n",
    "                         (gender_music_df_1['artist_top_genre'] =='azonto')]))),\n",
    "                       len(((gender_music_df_1[(gender_music_df_1['gender'] == 'Male') & \n",
    "                         (gender_music_df_1['artist_top_genre'] =='soft rock')]))),\n",
    "                        len(((gender_music_df_1[(gender_music_df_1['gender'] == 'Male') & \n",
    "                         (gender_music_df_1['artist_top_genre'] =='hiplife')]))),\n",
    "                       len(((gender_music_df_1[(gender_music_df_1['gender'] == 'Male') & \n",
    "                         (gender_music_df_1['artist_top_genre'] =='erotica')]))),\n",
    "                        len(((gender_music_df_1[(gender_music_df_1['gender'] == 'Male') & \n",
    "                         (gender_music_df_1['artist_top_genre'] =='nigerian hip hop')]))),\n",
    "                        len(((gender_music_df_1[(gender_music_df_1['gender'] == 'Male') & \n",
    "                         (gender_music_df_1['artist_top_genre'] =='highlife')]))),\n",
    "                        len(((gender_music_df_1[(gender_music_df_1['gender'] == 'Male') & \n",
    "                         (gender_music_df_1['artist_top_genre'] =='azontobeats')]))),\n",
    "                        len(((gender_music_df_1[(gender_music_df_1['gender'] == 'Male') & \n",
    "                         (gender_music_df_1['artist_top_genre'] =='south african house')]))),\n",
    "                        len(((gender_music_df_1[(gender_music_df_1['gender'] == 'Male') & \n",
    "                         (gender_music_df_1['artist_top_genre'] =='bongo flava')]))),\n",
    "                        len(((gender_music_df_1[(gender_music_df_1['gender'] == 'Male') & \n",
    "                         (gender_music_df_1['artist_top_genre'] =='afroswing')]))),\n",
    "                        len(((gender_music_df_1[(gender_music_df_1['gender'] == 'Male') & \n",
    "                         (gender_music_df_1['artist_top_genre'] =='gqom')]))),\n",
    "                       len(((gender_music_df_1[(gender_music_df_1['gender'] == 'Male') & \n",
    "                         (gender_music_df_1['artist_top_genre'] =='christian afrobeat')])))]\n",
    "Absolute_Count_Male                      \n",
    "\n"
   ]
  },
  {
   "cell_type": "code",
   "execution_count": null,
   "id": "3e89be15",
   "metadata": {},
   "outputs": [],
   "source": [
    "Absolute_Count_Female = [len(((gender_music_df_1[(gender_music_df_1['gender'] == 'Female') & \n",
    "                         (gender_music_df_1['artist_top_genre'] =='alternative r&b')]))), \n",
    "                        len(((gender_music_df_1[(gender_music_df_1['gender'] == 'Female') & \n",
    "                         (gender_music_df_1['artist_top_genre'] =='afropop')]))),\n",
    "                        len(((gender_music_df_1[(gender_music_df_1['gender'] == 'Female') & \n",
    "                         (gender_music_df_1['artist_top_genre'] =='indie r&b')]))),\n",
    "                        len(((gender_music_df_1[(gender_music_df_1['gender'] == 'Female') & \n",
    "                         (gender_music_df_1['artist_top_genre'] =='nigerian pop')]))),\n",
    "                        len(((gender_music_df_1[(gender_music_df_1['gender'] == 'Female') & \n",
    "                         (gender_music_df_1['artist_top_genre'] =='afro r&b')]))),\n",
    "                        len(((gender_music_df_1[(gender_music_df_1['gender'] == 'Female') & \n",
    "                         (gender_music_df_1['artist_top_genre'] =='afro dancehall')]))),\n",
    "                        len(((gender_music_df_1[(gender_music_df_1['gender'] == 'Female') & \n",
    "                         (gender_music_df_1['artist_top_genre'] =='azonto')]))),\n",
    "                        len(((gender_music_df_1[(gender_music_df_1['gender'] == 'Female') & \n",
    "                         (gender_music_df_1['artist_top_genre'] =='soft rock')]))), \n",
    "                        len(((gender_music_df_1[(gender_music_df_1['gender'] == 'Female') & \n",
    "                         (gender_music_df_1['artist_top_genre'] =='hiplife')]))),\n",
    "                        len(((gender_music_df_1[(gender_music_df_1['gender'] == 'Female') & \n",
    "                         (gender_music_df_1['artist_top_genre'] =='erotica')]))),  \n",
    "                        len(((gender_music_df_1[(gender_music_df_1['gender'] == 'Female') & \n",
    "                         (gender_music_df_1['artist_top_genre'] =='nigerian hip hop')]))),\n",
    "                        len(((gender_music_df_1[(gender_music_df_1['gender'] == 'Female') & \n",
    "                         (gender_music_df_1['artist_top_genre'] =='highlife')]))),\n",
    "                        len(((gender_music_df_1[(gender_music_df_1['gender'] == 'Female') & \n",
    "                         (gender_music_df_1['artist_top_genre'] =='azontobeats')]))),\n",
    "                        len(((gender_music_df_1[(gender_music_df_1['gender'] == 'Female') & \n",
    "                         (gender_music_df_1['artist_top_genre'] =='south african house')]))),\n",
    "                        len(((gender_music_df_1[(gender_music_df_1['gender'] == 'Female') & \n",
    "                         (gender_music_df_1['artist_top_genre'] =='bongo flava')]))),\n",
    "                        len(((gender_music_df_1[(gender_music_df_1['gender'] == 'Female') & \n",
    "                         (gender_music_df_1['artist_top_genre'] =='afroswing')]))),\n",
    "                        len(((gender_music_df_1[(gender_music_df_1['gender'] == 'Female') & \n",
    "                         (gender_music_df_1['artist_top_genre'] =='gqom')]))),\n",
    "                       len(((gender_music_df_1[(gender_music_df_1['gender'] == 'Female') & \n",
    "                         (gender_music_df_1['artist_top_genre'] =='christian afrobeat')])))]\n",
    "Absolute_Count_Female"
   ]
  },
  {
   "cell_type": "code",
   "execution_count": null,
   "id": "033f393b",
   "metadata": {},
   "outputs": [],
   "source": [
    "Absolute_Count_Male_Group = [len(((gender_music_df_1[(gender_music_df_1['gender'] == 'Male Group') & \n",
    "                         (gender_music_df_1['artist_top_genre'] =='alternative r&b')]))), \n",
    "                        len(((gender_music_df_1[(gender_music_df_1['gender'] == 'Male Group') & \n",
    "                         (gender_music_df_1['artist_top_genre'] =='afropop')]))),\n",
    "                       len(((gender_music_df_1[(gender_music_df_1['gender'] == 'Male Group') & \n",
    "                         (gender_music_df_1['artist_top_genre'] =='indie r&b')]))),                             \n",
    "                        len(((gender_music_df_1[(gender_music_df_1['gender'] == 'Male Group') & \n",
    "                         (gender_music_df_1['artist_top_genre'] =='nigerian pop')]))),\n",
    "                        len(((gender_music_df_1[(gender_music_df_1['gender'] == 'Male Group') & \n",
    "                         (gender_music_df_1['artist_top_genre'] =='afro r&b')]))),\n",
    "                        len(((gender_music_df_1[(gender_music_df_1['gender'] == 'Male Group') & \n",
    "                         (gender_music_df_1['artist_top_genre'] =='afro dancehall')]))),\n",
    "                        len(((gender_music_df_1[(gender_music_df_1['gender'] == 'Male Group') & \n",
    "                         (gender_music_df_1['artist_top_genre'] =='azonto')]))),\n",
    "                        len(((gender_music_df_1[(gender_music_df_1['gender'] == 'Male Group') & \n",
    "                         (gender_music_df_1['artist_top_genre'] =='soft rock')]))),     \n",
    "                        len(((gender_music_df_1[(gender_music_df_1['gender'] == 'Male Group') & \n",
    "                         (gender_music_df_1['artist_top_genre'] =='hiplife')]))),\n",
    "                        len(((gender_music_df_1[(gender_music_df_1['gender'] == 'Male Group') & \n",
    "                         (gender_music_df_1['artist_top_genre'] =='erotica')]))),     \n",
    "                        len(((gender_music_df_1[(gender_music_df_1['gender'] == 'Male Group') & \n",
    "                         (gender_music_df_1['artist_top_genre'] =='nigerian hip hop')]))),\n",
    "                        len(((gender_music_df_1[(gender_music_df_1['gender'] == 'Male Group') & \n",
    "                         (gender_music_df_1['artist_top_genre'] =='highlife')]))),\n",
    "                        len(((gender_music_df_1[(gender_music_df_1['gender'] == 'Male Group') & \n",
    "                         (gender_music_df_1['artist_top_genre'] =='azontobeats')]))),\n",
    "                        len(((gender_music_df_1[(gender_music_df_1['gender'] == 'Male Group') & \n",
    "                         (gender_music_df_1['artist_top_genre'] =='south african house')]))),\n",
    "                        len(((gender_music_df_1[(gender_music_df_1['gender'] == 'Male Group') & \n",
    "                         (gender_music_df_1['artist_top_genre'] =='bongo flava')]))),    \n",
    "                        len(((gender_music_df_1[(gender_music_df_1['gender'] == 'Male Group') & \n",
    "                         (gender_music_df_1['artist_top_genre'] =='afroswing')]))),\n",
    "                        len(((gender_music_df_1[(gender_music_df_1['gender'] == 'Male Group') & \n",
    "                         (gender_music_df_1['artist_top_genre'] =='gqom')]))),\n",
    "                       len(((gender_music_df_1[(gender_music_df_1['gender'] == 'Male Group') & \n",
    "                         (gender_music_df_1['artist_top_genre'] =='christian afrobeat')])))]\n",
    "Absolute_Count_Male_Group                     \n",
    "\n"
   ]
  },
  {
   "cell_type": "code",
   "execution_count": null,
   "id": "4c76673d",
   "metadata": {},
   "outputs": [],
   "source": [
    "Absolute_Count_Mixed_Group = [len(((gender_music_df_1[(gender_music_df_1['gender'] == 'Mixed Group') & \n",
    "                         (gender_music_df_1['artist_top_genre'] =='alternative r&b')]))), \n",
    "                        len(((gender_music_df_1[(gender_music_df_1['gender'] == 'Mixed Group') & \n",
    "                         (gender_music_df_1['artist_top_genre'] =='afropop')]))),\n",
    "                        len(((gender_music_df_1[(gender_music_df_1['gender'] == 'Mixed Group') & \n",
    "                         (gender_music_df_1['artist_top_genre'] =='indie r&b')]))), \n",
    "                        len(((gender_music_df_1[(gender_music_df_1['gender'] == 'Mixed Group') & \n",
    "                         (gender_music_df_1['artist_top_genre'] =='nigerian pop')]))),\n",
    "                        len(((gender_music_df_1[(gender_music_df_1['gender'] == 'Mixed Group') & \n",
    "                         (gender_music_df_1['artist_top_genre'] =='afro r&b')]))),\n",
    "                        len(((gender_music_df_1[(gender_music_df_1['gender'] == 'Mixed Group') & \n",
    "                         (gender_music_df_1['artist_top_genre'] =='afro dancehall')]))),\n",
    "                        len(((gender_music_df_1[(gender_music_df_1['gender'] == 'Mixed Group') & \n",
    "                         (gender_music_df_1['artist_top_genre'] =='azonto')]))),\n",
    "                        len(((gender_music_df_1[(gender_music_df_1['gender'] == 'Mixed Group') & \n",
    "                         (gender_music_df_1['artist_top_genre'] =='soft rock')]))),  \n",
    "                        len(((gender_music_df_1[(gender_music_df_1['gender'] == 'Mixed Group') & \n",
    "                         (gender_music_df_1['artist_top_genre'] =='hiplife')]))),\n",
    "                        len(((gender_music_df_1[(gender_music_df_1['gender'] == 'Mixed Group') & \n",
    "                         (gender_music_df_1['artist_top_genre'] =='erotica')]))),     \n",
    "                        len(((gender_music_df_1[(gender_music_df_1['gender'] == 'Mixed Group') & \n",
    "                         (gender_music_df_1['artist_top_genre'] =='nigerian hip hop')]))),\n",
    "                        len(((gender_music_df_1[(gender_music_df_1['gender'] == 'Mixed Group') & \n",
    "                         (gender_music_df_1['artist_top_genre'] =='highlife')]))),\n",
    "                        len(((gender_music_df_1[(gender_music_df_1['gender'] == 'Mixed Group') & \n",
    "                         (gender_music_df_1['artist_top_genre'] =='azontobeats')]))),\n",
    "                        len(((gender_music_df_1[(gender_music_df_1['gender'] == 'Mixed Group') & \n",
    "                         (gender_music_df_1['artist_top_genre'] =='south african house')]))),\n",
    "                        len(((gender_music_df_1[(gender_music_df_1['gender'] == 'Mixed Group') & \n",
    "                         (gender_music_df_1['artist_top_genre'] =='bongo flava')]))),  \n",
    "                        len(((gender_music_df_1[(gender_music_df_1['gender'] == 'Mixed Group') & \n",
    "                         (gender_music_df_1['artist_top_genre'] =='afroswing')]))),\n",
    "                        len(((gender_music_df_1[(gender_music_df_1['gender'] == 'Mixed Group') & \n",
    "                         (gender_music_df_1['artist_top_genre'] =='gqom')]))),\n",
    "                       len(((gender_music_df_1[(gender_music_df_1['gender'] == 'Mixed Group') & \n",
    "                         (gender_music_df_1['artist_top_genre'] =='christian afrobeat')])))]\n",
    "Absolute_Count_Mixed_Group                      "
   ]
  },
  {
   "cell_type": "code",
   "execution_count": null,
   "id": "370e3c87",
   "metadata": {},
   "outputs": [],
   "source": [
    "Absolute_Count_1 = [len(((gender_music_df_1[(gender_music_df_1['gender'] == 'Male') & \n",
    "                         (gender_music_df_1['artist_top_genre'] =='alternative r&b')]))), \n",
    "                        len(((gender_music_df_1[(gender_music_df_1['gender'] == 'Male') & \n",
    "                         (gender_music_df_1['artist_top_genre'] =='afropop')]))),\n",
    "                       len(((gender_music_df_1[(gender_music_df_1['gender'] == 'Male') & \n",
    "                         (gender_music_df_1['artist_top_genre'] =='indie r&b')]))),\n",
    "                        len(((gender_music_df_1[(gender_music_df_1['gender'] == 'Male') & \n",
    "                         (gender_music_df_1['artist_top_genre'] =='nigerian pop')]))),\n",
    "                        len(((gender_music_df_1[(gender_music_df_1['gender'] == 'Male') & \n",
    "                         (gender_music_df_1['artist_top_genre'] =='afro r&b')]))),\n",
    "                        len(((gender_music_df_1[(gender_music_df_1['gender'] == 'Male') & \n",
    "                         (gender_music_df_1['artist_top_genre'] =='afro dancehall')]))),\n",
    "                        len(((gender_music_df_1[(gender_music_df_1['gender'] == 'Male') & \n",
    "                         (gender_music_df_1['artist_top_genre'] =='azonto')]))),\n",
    "                       len(((gender_music_df_1[(gender_music_df_1['gender'] == 'Male') & \n",
    "                         (gender_music_df_1['artist_top_genre'] =='soft rock')]))),\n",
    "                        len(((gender_music_df_1[(gender_music_df_1['gender'] == 'Male') & \n",
    "                         (gender_music_df_1['artist_top_genre'] =='hiplife')]))),\n",
    "                       len(((gender_music_df_1[(gender_music_df_1['gender'] == 'Male') & \n",
    "                         (gender_music_df_1['artist_top_genre'] =='erotica')]))),\n",
    "                        len(((gender_music_df_1[(gender_music_df_1['gender'] == 'Male') & \n",
    "                         (gender_music_df_1['artist_top_genre'] =='nigerian hip hop')]))),\n",
    "                        len(((gender_music_df_1[(gender_music_df_1['gender'] == 'Male') & \n",
    "                         (gender_music_df_1['artist_top_genre'] =='highlife')]))),\n",
    "                        len(((gender_music_df_1[(gender_music_df_1['gender'] == 'Male') & \n",
    "                         (gender_music_df_1['artist_top_genre'] =='azontobeats')]))),\n",
    "                        len(((gender_music_df_1[(gender_music_df_1['gender'] == 'Male') & \n",
    "                         (gender_music_df_1['artist_top_genre'] =='south african house')]))),\n",
    "                        len(((gender_music_df_1[(gender_music_df_1['gender'] == 'Male') & \n",
    "                         (gender_music_df_1['artist_top_genre'] =='bongo flava')]))),\n",
    "                        len(((gender_music_df_1[(gender_music_df_1['gender'] == 'Male') & \n",
    "                         (gender_music_df_1['artist_top_genre'] =='afroswing')]))),\n",
    "                        len(((gender_music_df_1[(gender_music_df_1['gender'] == 'Male') & \n",
    "                         (gender_music_df_1['artist_top_genre'] =='gqom')]))),\n",
    "                       len(((gender_music_df_1[(gender_music_df_1['gender'] == 'Male') & \n",
    "                         (gender_music_df_1['artist_top_genre'] =='christian afrobeat')]))),\n",
    "                    len(((gender_music_df_1[(gender_music_df_1['gender'] == 'Male Group') & \n",
    "                         (gender_music_df_1['artist_top_genre'] =='alternative r&b')]))), \n",
    "                        len(((gender_music_df_1[(gender_music_df_1['gender'] == 'Male Group') & \n",
    "                         (gender_music_df_1['artist_top_genre'] =='afropop')]))),\n",
    "                       len(((gender_music_df_1[(gender_music_df_1['gender'] == 'Male Group') & \n",
    "                         (gender_music_df_1['artist_top_genre'] =='indie r&b')]))),                             \n",
    "                        len(((gender_music_df_1[(gender_music_df_1['gender'] == 'Male Group') & \n",
    "                         (gender_music_df_1['artist_top_genre'] =='nigerian pop')]))),\n",
    "                        len(((gender_music_df_1[(gender_music_df_1['gender'] == 'Male Group') & \n",
    "                         (gender_music_df_1['artist_top_genre'] =='afro r&b')]))),\n",
    "                        len(((gender_music_df_1[(gender_music_df_1['gender'] == 'Male Group') & \n",
    "                         (gender_music_df_1['artist_top_genre'] =='afro dancehall')]))),\n",
    "                        len(((gender_music_df_1[(gender_music_df_1['gender'] == 'Male Group') & \n",
    "                         (gender_music_df_1['artist_top_genre'] =='azonto')]))),\n",
    "                        len(((gender_music_df_1[(gender_music_df_1['gender'] == 'Male Group') & \n",
    "                         (gender_music_df_1['artist_top_genre'] =='soft rock')]))),     \n",
    "                        len(((gender_music_df_1[(gender_music_df_1['gender'] == 'Male Group') & \n",
    "                         (gender_music_df_1['artist_top_genre'] =='hiplife')]))),\n",
    "                        len(((gender_music_df_1[(gender_music_df_1['gender'] == 'Male Group') & \n",
    "                         (gender_music_df_1['artist_top_genre'] =='erotica')]))),     \n",
    "                        len(((gender_music_df_1[(gender_music_df_1['gender'] == 'Male Group') & \n",
    "                         (gender_music_df_1['artist_top_genre'] =='nigerian hip hop')]))),\n",
    "                        len(((gender_music_df_1[(gender_music_df_1['gender'] == 'Male Group') & \n",
    "                         (gender_music_df_1['artist_top_genre'] =='highlife')]))),\n",
    "                        len(((gender_music_df_1[(gender_music_df_1['gender'] == 'Male Group') & \n",
    "                         (gender_music_df_1['artist_top_genre'] =='azontobeats')]))),\n",
    "                        len(((gender_music_df_1[(gender_music_df_1['gender'] == 'Male Group') & \n",
    "                         (gender_music_df_1['artist_top_genre'] =='south african house')]))),\n",
    "                        len(((gender_music_df_1[(gender_music_df_1['gender'] == 'Male Group') & \n",
    "                         (gender_music_df_1['artist_top_genre'] =='bongo flava')]))),    \n",
    "                        len(((gender_music_df_1[(gender_music_df_1['gender'] == 'Male Group') & \n",
    "                         (gender_music_df_1['artist_top_genre'] =='afroswing')]))),\n",
    "                        len(((gender_music_df_1[(gender_music_df_1['gender'] == 'Male Group') & \n",
    "                         (gender_music_df_1['artist_top_genre'] =='gqom')]))),\n",
    "                       len(((gender_music_df_1[(gender_music_df_1['gender'] == 'Male Group') & \n",
    "                         (gender_music_df_1['artist_top_genre'] =='christian afrobeat')]))), \n",
    "                       len(((gender_music_df_1[(gender_music_df_1['gender'] == 'Female') & \n",
    "                         (gender_music_df_1['artist_top_genre'] =='alternative r&b')]))), \n",
    "                        len(((gender_music_df_1[(gender_music_df_1['gender'] == 'Female') & \n",
    "                         (gender_music_df_1['artist_top_genre'] =='afropop')]))),\n",
    "                        len(((gender_music_df_1[(gender_music_df_1['gender'] == 'Female') & \n",
    "                         (gender_music_df_1['artist_top_genre'] =='indie r&b')]))),\n",
    "                        len(((gender_music_df_1[(gender_music_df_1['gender'] == 'Female') & \n",
    "                         (gender_music_df_1['artist_top_genre'] =='nigerian pop')]))),\n",
    "                        len(((gender_music_df_1[(gender_music_df_1['gender'] == 'Female') & \n",
    "                         (gender_music_df_1['artist_top_genre'] =='afro r&b')]))),\n",
    "                        len(((gender_music_df_1[(gender_music_df_1['gender'] == 'Female') & \n",
    "                         (gender_music_df_1['artist_top_genre'] =='afro dancehall')]))),\n",
    "                        len(((gender_music_df_1[(gender_music_df_1['gender'] == 'Female') & \n",
    "                         (gender_music_df_1['artist_top_genre'] =='azonto')]))),\n",
    "                        len(((gender_music_df_1[(gender_music_df_1['gender'] == 'Female') & \n",
    "                         (gender_music_df_1['artist_top_genre'] =='soft rock')]))), \n",
    "                        len(((gender_music_df_1[(gender_music_df_1['gender'] == 'Female') & \n",
    "                         (gender_music_df_1['artist_top_genre'] =='hiplife')]))),\n",
    "                        len(((gender_music_df_1[(gender_music_df_1['gender'] == 'Female') & \n",
    "                         (gender_music_df_1['artist_top_genre'] =='erotica')]))),  \n",
    "                        len(((gender_music_df_1[(gender_music_df_1['gender'] == 'Female') & \n",
    "                         (gender_music_df_1['artist_top_genre'] =='nigerian hip hop')]))),\n",
    "                        len(((gender_music_df_1[(gender_music_df_1['gender'] == 'Female') & \n",
    "                         (gender_music_df_1['artist_top_genre'] =='highlife')]))),\n",
    "                        len(((gender_music_df_1[(gender_music_df_1['gender'] == 'Female') & \n",
    "                         (gender_music_df_1['artist_top_genre'] =='azontobeats')]))),\n",
    "                        len(((gender_music_df_1[(gender_music_df_1['gender'] == 'Female') & \n",
    "                         (gender_music_df_1['artist_top_genre'] =='south african house')]))),\n",
    "                        len(((gender_music_df_1[(gender_music_df_1['gender'] == 'Female') & \n",
    "                         (gender_music_df_1['artist_top_genre'] =='bongo flava')]))),\n",
    "                        len(((gender_music_df_1[(gender_music_df_1['gender'] == 'Female') & \n",
    "                         (gender_music_df_1['artist_top_genre'] =='afroswing')]))),\n",
    "                        len(((gender_music_df_1[(gender_music_df_1['gender'] == 'Female') & \n",
    "                         (gender_music_df_1['artist_top_genre'] =='gqom')]))),\n",
    "                       len(((gender_music_df_1[(gender_music_df_1['gender'] == 'Female') & \n",
    "                         (gender_music_df_1['artist_top_genre'] =='christian afrobeat')]))), \n",
    "                       len(((gender_music_df_1[(gender_music_df_1['gender'] == 'Mixed Group') & \n",
    "                         (gender_music_df_1['artist_top_genre'] =='alternative r&b')]))), \n",
    "                        len(((gender_music_df_1[(gender_music_df_1['gender'] == 'Mixed Group') & \n",
    "                         (gender_music_df_1['artist_top_genre'] =='afropop')]))),\n",
    "                        len(((gender_music_df_1[(gender_music_df_1['gender'] == 'Mixed Group') & \n",
    "                         (gender_music_df_1['artist_top_genre'] =='indie r&b')]))), \n",
    "                        len(((gender_music_df_1[(gender_music_df_1['gender'] == 'Mixed Group') & \n",
    "                         (gender_music_df_1['artist_top_genre'] =='nigerian pop')]))),\n",
    "                        len(((gender_music_df_1[(gender_music_df_1['gender'] == 'Mixed Group') & \n",
    "                         (gender_music_df_1['artist_top_genre'] =='afro r&b')]))),\n",
    "                        len(((gender_music_df_1[(gender_music_df_1['gender'] == 'Mixed Group') & \n",
    "                         (gender_music_df_1['artist_top_genre'] =='afro dancehall')]))),\n",
    "                        len(((gender_music_df_1[(gender_music_df_1['gender'] == 'Mixed Group') & \n",
    "                         (gender_music_df_1['artist_top_genre'] =='azonto')]))),\n",
    "                        len(((gender_music_df_1[(gender_music_df_1['gender'] == 'Mixed Group') & \n",
    "                         (gender_music_df_1['artist_top_genre'] =='soft rock')]))),  \n",
    "                        len(((gender_music_df_1[(gender_music_df_1['gender'] == 'Mixed Group') & \n",
    "                         (gender_music_df_1['artist_top_genre'] =='hiplife')]))),\n",
    "                        len(((gender_music_df_1[(gender_music_df_1['gender'] == 'Mixed Group') & \n",
    "                         (gender_music_df_1['artist_top_genre'] =='erotica')]))),     \n",
    "                        len(((gender_music_df_1[(gender_music_df_1['gender'] == 'Mixed Group') & \n",
    "                         (gender_music_df_1['artist_top_genre'] =='nigerian hip hop')]))),\n",
    "                        len(((gender_music_df_1[(gender_music_df_1['gender'] == 'Mixed Group') & \n",
    "                         (gender_music_df_1['artist_top_genre'] =='highlife')]))),\n",
    "                        len(((gender_music_df_1[(gender_music_df_1['gender'] == 'Mixed Group') & \n",
    "                         (gender_music_df_1['artist_top_genre'] =='azontobeats')]))),\n",
    "                        len(((gender_music_df_1[(gender_music_df_1['gender'] == 'Mixed Group') & \n",
    "                         (gender_music_df_1['artist_top_genre'] =='south african house')]))),\n",
    "                        len(((gender_music_df_1[(gender_music_df_1['gender'] == 'Mixed Group') & \n",
    "                         (gender_music_df_1['artist_top_genre'] =='bongo flava')]))),  \n",
    "                        len(((gender_music_df_1[(gender_music_df_1['gender'] == 'Mixed Group') & \n",
    "                         (gender_music_df_1['artist_top_genre'] =='afroswing')]))),\n",
    "                        len(((gender_music_df_1[(gender_music_df_1['gender'] == 'Mixed Group') & \n",
    "                         (gender_music_df_1['artist_top_genre'] =='gqom')]))),\n",
    "                       len(((gender_music_df_1[(gender_music_df_1['gender'] == 'Mixed Group') & \n",
    "                         (gender_music_df_1['artist_top_genre'] =='christian afrobeat')])))]\n",
    "                    \n",
    "                   \n",
    "Absolute_Count_1\n",
    "print(len(Absolute_Count_1))"
   ]
  },
  {
   "cell_type": "code",
   "execution_count": null,
   "id": "b2475c4f",
   "metadata": {
    "scrolled": true
   },
   "outputs": [],
   "source": [
    "Total_alt_rb= [gender_music_df_1['artist_top_genre'].tolist().count('alternative r&b')]\n",
    "Total_afropop= [gender_music_df_1['artist_top_genre'].tolist().count('afropop')]\n",
    "Total_indiernb= [gender_music_df_1['artist_top_genre'].tolist().count('indie r&b')]\n",
    "Total_npop= [gender_music_df_1['artist_top_genre'].tolist().count('nigerian pop')]\n",
    "Total_afrorb= [gender_music_df_1['artist_top_genre'].tolist().count('afro r&b')]\n",
    "Total_afrodh= [gender_music_df_1['artist_top_genre'].tolist().count('afro dancehall')]\n",
    "Total_azonto= [gender_music_df_1['artist_top_genre'].tolist().count( 'azonto')]\n",
    "Total_softrock= [gender_music_df_1['artist_top_genre'].tolist().count( 'soft rock')]\n",
    "Total_hiplife= [gender_music_df_1['artist_top_genre'].tolist().count( 'hiplife')]\n",
    "Total_erotica= [gender_music_df_1['artist_top_genre'].tolist().count( 'erotica')]\n",
    "Total_nhiphop= [gender_music_df_1['artist_top_genre'].tolist().count( 'nigerian hip hop')]\n",
    "Total_highlife= [gender_music_df_1['artist_top_genre'].tolist().count( 'highlife')]\n",
    "Total_azbeats= [gender_music_df_1['artist_top_genre'].tolist().count( 'azontobeats')]\n",
    "Total_sahse= [gender_music_df_1['artist_top_genre'].tolist().count( 'south african house')]\n",
    "Total_bongoflava= [gender_music_df_1['artist_top_genre'].tolist().count( 'bongo flava')]\n",
    "Total_afroswing= [gender_music_df_1['artist_top_genre'].tolist().count( 'afroswing')]\n",
    "Total_gqom= [gender_music_df_1['artist_top_genre'].tolist().count('gqom')]\n",
    "Total_cafrobeate= [gender_music_df_1['artist_top_genre'].tolist().count('christian afrobeat')]\n",
    "\n",
    "\n",
    "\n",
    "  "
   ]
  },
  {
   "cell_type": "code",
   "execution_count": null,
   "id": "85baa0fd",
   "metadata": {},
   "outputs": [],
   "source": [
    "Totals= [Total_alt_rb, Total_afropop, Total_indiernb, Total_npop, Total_afrorb, Total_afrodh, Total_azonto, Total_softrock,\n",
    "         Total_hiplife, Total_erotica , Total_nhiphop, Total_highlife, Total_azbeats, Total_sahse,Total_bongoflava, \n",
    "         Total_afroswing,Total_gqom, Total_cafrobeate]\n",
    "Totals"
   ]
  },
  {
   "cell_type": "markdown",
   "id": "3fe54d9e",
   "metadata": {},
   "source": [
    "Calculating the proportions "
   ]
  },
  {
   "cell_type": "markdown",
   "id": "25745c94",
   "metadata": {},
   "source": [
    "Proporrtion Male- for the different genres "
   ]
  },
  {
   "cell_type": "code",
   "execution_count": null,
   "id": "43916c98",
   "metadata": {
    "scrolled": false
   },
   "outputs": [],
   "source": [
    "Proportion_Male= [round((6/7)*100,2),\n",
    "                 round((73/86)*100,2),\n",
    "                 round((4/4)*100,2),\n",
    "                 round((18/20)*100,2),\n",
    "                 round((3/3)*100,2),\n",
    "                 round((252/302)*100,2),\n",
    "                 round((1/1)*100,2),\n",
    "                 round((1/1)*100,2),\n",
    "                 round((1/1)*100,2),\n",
    "                 round((1/1)*100,2),\n",
    "                 round((3/3)*100,2),\n",
    "                 round((1/1)*100,2),\n",
    "                 round((6/8)*100,2),\n",
    "                 round((1/1)*100,2),\n",
    "                 round((1/1)*100,2),\n",
    "                 round((1/1)*100,2),\n",
    "                 round((1/1)*100,2),\n",
    "                 round((1/1)*100,2)]\n",
    "Proportion_Male"
   ]
  },
  {
   "cell_type": "markdown",
   "id": "06ebf81d",
   "metadata": {},
   "source": [
    "Proportion Male Group"
   ]
  },
  {
   "cell_type": "code",
   "execution_count": null,
   "id": "54b1190a",
   "metadata": {},
   "outputs": [],
   "source": [
    "Proportion_Male_Group= [round((0/7)*100,2),\n",
    "                 round((8/86)*100,2),\n",
    "                 round((0/4)*100,2),\n",
    "                 round((2/20)*100,2),\n",
    "                 round((0/3)*100,2),\n",
    "                 round((27/302)*100,2),\n",
    "                 round((0/1)*100,2),\n",
    "                 round((0/1)*100,2),\n",
    "                 round((0/1)*100,2),\n",
    "                 round((0/1)*100,2),\n",
    "                 round((0/3)*100,2),\n",
    "                 round((0/1)*100,2),\n",
    "                 round((1/8)*100,2),\n",
    "                 round((0/1)*100,2),\n",
    "                 round((0/1)*100,2),\n",
    "                 round((0/1)*100,2),\n",
    "                 round((0/1)*100,2),\n",
    "                 round((0/1)*100,2)]\n",
    "Proportion_Male_Group"
   ]
  },
  {
   "cell_type": "markdown",
   "id": "befae5af",
   "metadata": {},
   "source": [
    "Propotion Female"
   ]
  },
  {
   "cell_type": "code",
   "execution_count": null,
   "id": "0b53fd9a",
   "metadata": {},
   "outputs": [],
   "source": [
    "Proportion_Female= [round((1/7)*100,2),\n",
    "                 round((5/86)*100,2),\n",
    "                 round((0/4)*100,2),\n",
    "                 round((0/20)*100,2),\n",
    "                 round((0/3)*100,2),\n",
    "                 round((21/302)*100,2),\n",
    "                 round((0/1)*100,2),\n",
    "                 round((0/1)*100,2),\n",
    "                 round((0/1)*100,2),\n",
    "                 round((0/1)*100,2),\n",
    "                 round((0/3)*100,2),\n",
    "                 round((0/1)*100,2),\n",
    "                 round((1/8)*100,2),\n",
    "                 round((0/1)*100,2),\n",
    "                 round((0/1)*100,2),\n",
    "                 round((0/1)*100,2),\n",
    "                 round((0/1)*100,2),\n",
    "                 round((0/1)*100,2)]\n",
    "Proportion_Female"
   ]
  },
  {
   "cell_type": "markdown",
   "id": "09fbca13",
   "metadata": {},
   "source": [
    "Proption mixed group"
   ]
  },
  {
   "cell_type": "code",
   "execution_count": null,
   "id": "99e7c3ee",
   "metadata": {},
   "outputs": [],
   "source": [
    "Proportion_Mixed_Group= [round((0/7)*100,2),\n",
    "                 round((0/86)*100,2),\n",
    "                 round((0/4)*100,2),\n",
    "                 round((0/20)*100,2),\n",
    "                 round((0/3)*100,2),\n",
    "                 round((2/302)*100,2),\n",
    "                 round((0/1)*100,2),\n",
    "                 round((0/1)*100,2),\n",
    "                 round((0/1)*100,2),\n",
    "                 round((0/1)*100,2),\n",
    "                 round((0/3)*100,2),\n",
    "                 round((0/1)*100,2),\n",
    "                 round((0/8)*100,2),\n",
    "                 round((0/1)*100,2),\n",
    "                 round((0/1)*100,2),\n",
    "                 round((0/1)*100,2),\n",
    "                 round((0/1)*100,2),\n",
    "                 round((0/1)*100,2)]\n",
    "Proportion_Mixed_Group"
   ]
  },
  {
   "cell_type": "code",
   "execution_count": null,
   "id": "e0472cc2",
   "metadata": {},
   "outputs": [],
   "source": [
    "Propotion_1 = [round((6/7)*100,2),\n",
    "                 round((73/86)*100,2),\n",
    "                 round((4/4)*100,2),\n",
    "                 round((18/20)*100,2),\n",
    "                 round((3/3)*100,2),\n",
    "                 round((252/302)*100,2),\n",
    "                 round((1/1)*100,2),\n",
    "                 round((1/1)*100,2),\n",
    "                 round((1/1)*100,2),\n",
    "                 round((1/1)*100,2),\n",
    "                 round((3/3)*100,2),\n",
    "                 round((1/1)*100,2),\n",
    "                 round((6/8)*100,2),\n",
    "                 round((1/1)*100,2),\n",
    "                 round((1/1)*100,2),\n",
    "                 round((1/1)*100,2),\n",
    "                 round((1/1)*100,2),\n",
    "                 round((1/1)*100,2),\n",
    "           round((0/7)*100,2),\n",
    "                 round((8/86)*100,2),\n",
    "                 round((0/4)*100,2),\n",
    "                 round((2/20)*100,2),\n",
    "                 round((0/3)*100,2),\n",
    "                 round((27/302)*100,2),\n",
    "                 round((0/1)*100,2),\n",
    "                 round((0/1)*100,2),\n",
    "                 round((0/1)*100,2),\n",
    "                 round((0/1)*100,2),\n",
    "                 round((0/3)*100,2),\n",
    "                 round((0/1)*100,2),\n",
    "                 round((1/8)*100,2),\n",
    "                 round((0/1)*100,2),\n",
    "                 round((0/1)*100,2),\n",
    "                 round((0/1)*100,2),\n",
    "                 round((0/1)*100,2),\n",
    "                 round((0/1)*100,2),\n",
    "              round((1/7)*100,2),\n",
    "                 round((5/86)*100,2),\n",
    "                 round((0/4)*100,2),\n",
    "                 round((0/20)*100,2),\n",
    "                 round((0/3)*100,2),\n",
    "                 round((21/302)*100,2),\n",
    "                 round((0/1)*100,2),\n",
    "                 round((0/1)*100,2),\n",
    "                 round((0/1)*100,2),\n",
    "                 round((0/1)*100,2),\n",
    "                 round((0/3)*100,2),\n",
    "                 round((0/1)*100,2),\n",
    "                 round((1/8)*100,2),\n",
    "                 round((0/1)*100,2),\n",
    "                 round((0/1)*100,2),\n",
    "                 round((0/1)*100,2),\n",
    "                 round((0/1)*100,2),\n",
    "                 round((0/1)*100,2),\n",
    "              round((0/7)*100,2),\n",
    "                 round((0/86)*100,2),\n",
    "                 round((0/4)*100,2),\n",
    "                 round((0/20)*100,2),\n",
    "                 round((0/3)*100,2),\n",
    "                 round((2/302)*100,2),\n",
    "                 round((0/1)*100,2),\n",
    "                 round((0/1)*100,2),\n",
    "                 round((0/1)*100,2),\n",
    "                 round((0/1)*100,2),\n",
    "                 round((0/3)*100,2),\n",
    "                 round((0/1)*100,2),\n",
    "                 round((0/8)*100,2),\n",
    "                 round((0/1)*100,2),\n",
    "                 round((0/1)*100,2),\n",
    "                 round((0/1)*100,2),\n",
    "                 round((0/1)*100,2),\n",
    "                 round((0/1)*100,2)]\n",
    "              \n",
    "Propotion_1\n",
    "print(len(Propotion_1))\n",
    "type(Propotion_1)"
   ]
  },
  {
   "cell_type": "markdown",
   "id": "d1b4a7b1",
   "metadata": {},
   "source": [
    "Table of findings together"
   ]
  },
  {
   "cell_type": "code",
   "execution_count": null,
   "id": "a67c30fb",
   "metadata": {},
   "outputs": [],
   "source": [
    "Male_Genre_Table= {'Genre': Genre, 'Gender': Male_Gender, \n",
    "                   'Absolute Count': Absolute_Count_Male,  'Proportion ':Proportion_Male}\n",
    "Male_Genre_Table\n",
    "\n",
    "Male_Genre_split = pd.DataFrame(Male_Genre_Table)\n",
    "Male_Genre_split\n",
    "\n"
   ]
  },
  {
   "cell_type": "code",
   "execution_count": null,
   "id": "38b0d44b",
   "metadata": {},
   "outputs": [],
   "source": [
    "Male_Group_Genre_Table= {'Genre': Genre, 'Gender': Male_Group_Gender, \n",
    "                   'Absolute Count': Absolute_Count_Male_Group,  'Proportion %':Proportion_Male_Group}\n",
    "Male_Group_Genre_Table\n",
    "\n",
    "Male_Group_Genre_split = pd.DataFrame(Male_Group_Genre_Table)\n",
    "Male_Group_Genre_split"
   ]
  },
  {
   "cell_type": "code",
   "execution_count": null,
   "id": "36b4c312",
   "metadata": {},
   "outputs": [],
   "source": [
    "Female_Genre_Table= {'Genre': Genre, 'Gender': Female, \n",
    "                   'Absolute Count %': Absolute_Count_Female,  'Proportion':Proportion_Female}\n",
    "\n",
    "Female_Genre_split = pd.DataFrame(Female_Genre_Table)\n",
    "Female_Genre_split"
   ]
  },
  {
   "cell_type": "code",
   "execution_count": null,
   "id": "44896a7e",
   "metadata": {
    "scrolled": false
   },
   "outputs": [],
   "source": [
    "Mixed_Group_Genre_Table= {'Genre': Genre, 'Gender': Mixed_Group, \n",
    "                   'Absolute Count': Absolute_Count_Mixed_Group,  'Proportion %':Proportion_Mixed_Group}\n",
    "\n",
    "Mixed_Group_Genre_split = pd.DataFrame(Mixed_Group_Genre_Table)\n",
    "Mixed_Group_Genre_split"
   ]
  },
  {
   "cell_type": "code",
   "execution_count": null,
   "id": "16dcf684",
   "metadata": {
    "scrolled": false
   },
   "outputs": [],
   "source": [
    "Gender_Genre_Table= {'Genre': Genre_1, 'Gender': Gender_1, \n",
    "                   'Absolute Count': Absolute_Count_1,  'Proportion':Propotion_1}\n",
    "\n",
    "Gender_Genre_Table\n",
    "\n",
    "Gender_Genre_Split =  pd.DataFrame(Gender_Genre_Table)\n",
    "\n",
    "Gender_Genre_Split "
   ]
  },
  {
   "cell_type": "code",
   "execution_count": null,
   "id": "b0165560",
   "metadata": {},
   "outputs": [],
   "source": [
    "Totals = [100, 100,100,100,100,100,100,100,100,100,\n",
    "         100,100,100,100,100,100,100,100,100,100,\n",
    "         100,100,100,100,100,100,100,100,100,100,\n",
    "         100,100,100,100,100,100,100,100,100,100,\n",
    "         100,100,100,100,100,100,100,100,100,100,\n",
    "         100,100,100,100,100,100, 100,100,100,100,\n",
    "         100,100,100,100,100,100,100,100,100,100,100,100,]\n",
    "Totals"
   ]
  },
  {
   "cell_type": "code",
   "execution_count": null,
   "id": "b2b6e195",
   "metadata": {
    "scrolled": false
   },
   "outputs": [],
   "source": [
    "Gender_Genre_Split['Totals']= Totals\n",
    "Gender_Genre_Split"
   ]
  },
  {
   "cell_type": "code",
   "execution_count": null,
   "id": "5abae30b",
   "metadata": {},
   "outputs": [],
   "source": [
    "Gender_Genre_Split.to_csv(r'/Users/jemimaachoki/Desktop/2021:22 University/Term 1/IM939- Data Science/Asessments/Data-Intensive Essay/Data/Gender1.csv', index=False)"
   ]
  },
  {
   "cell_type": "markdown",
   "id": "9f5e9187",
   "metadata": {},
   "source": [
    "Bar chart for women vs men"
   ]
  },
  {
   "cell_type": "code",
   "execution_count": null,
   "id": "946b05f4",
   "metadata": {
    "scrolled": true
   },
   "outputs": [],
   "source": [
    "Gender_Genre_Split_1 = Gender_Genre_Split[Gender_Genre_Split.Proportion!= 0]\n",
    "Gender_Genre_Split_1"
   ]
  },
  {
   "cell_type": "code",
   "execution_count": null,
   "id": "ced1ae6c",
   "metadata": {},
   "outputs": [],
   "source": [
    "Gender_Genre_Split_1.to_csv(r'/Users/jemimaachoki/Desktop/2021:22 University/Term 1/IM939- Data Science/Asessments/Data-Intensive Essay/Data/Gender2.csv', index=False)"
   ]
  },
  {
   "cell_type": "code",
   "execution_count": null,
   "id": "8a6609d0",
   "metadata": {},
   "outputs": [],
   "source": [
    "alt.Chart(Gender_Genre_Split_1).mark_bar().encode(\n",
    "    x='Gender',\n",
    "    y='Absolute Count',\n",
    "    color='Gender',\n",
    "    column = alt.Column('Genre', spacing = 5, header = alt.Header(labelOrient = \"bottom\"))\n",
    ").properties(\n",
    "     title= 'Absolute gender differences across genres')"
   ]
  },
  {
   "cell_type": "code",
   "execution_count": null,
   "id": "5f8495bf",
   "metadata": {},
   "outputs": [],
   "source": [
    "alt.Chart(Gender_Genre_Split_1).mark_bar().encode(\n",
    "    x='Gender',\n",
    "    y='Proportion',\n",
    "    color='Gender',\n",
    "    column = alt.Column('Genre', spacing = 5, header = alt.Header(labelOrient = \"bottom\")),\n",
    ").properties(\n",
    "     title= 'Proportional gender differences across genres')"
   ]
  },
  {
   "cell_type": "code",
   "execution_count": null,
   "id": "f8feda7c",
   "metadata": {},
   "outputs": [],
   "source": [
    "alt.Chart(Gender_Genre_Split_1).mark_bar().encode(\n",
    "    x='Genre',\n",
    "    y='Proportion',\n",
    "    color='Gender',\n",
    ").properties(\n",
    "     title= 'Proportional gender differences across genres')"
   ]
  },
  {
   "cell_type": "code",
   "execution_count": null,
   "id": "2b78d02f",
   "metadata": {},
   "outputs": [],
   "source": [
    "Gender_Genre_Split_2 = Gender_Genre_Split_1[Gender_Genre_Split_1.Gender != 'Mixed Group']\n",
    "Gender_Genre_Split_2 = Gender_Genre_Split_2[Gender_Genre_Split_2.Gender != 'Male Group']\n",
    "Gender_Genre_Split_2"
   ]
  },
  {
   "cell_type": "code",
   "execution_count": null,
   "id": "7190c607",
   "metadata": {
    "scrolled": false
   },
   "outputs": [],
   "source": [
    "alt.Chart(Gender_Genre_Split_2).mark_bar().encode(\n",
    "    alt.Y('Proportion',\n",
    "        scale=alt.Scale(domain=(0, 110))\n",
    "    ),\n",
    "    x='Gender',\n",
    "    color='Gender',\n",
    "    column = alt.Column('Genre', spacing = 5, header = alt.Header(labelOrient = \"bottom\")),\n",
    ")"
   ]
  },
  {
   "cell_type": "code",
   "execution_count": null,
   "id": "86865936",
   "metadata": {},
   "outputs": [],
   "source": [
    "alt.Chart(Gender_Genre_Split_2).mark_bar().encode(\n",
    "    x='Genre',\n",
    "    y='Proportion',\n",
    "    color='Gender'\n",
    ")\n",
    "alt.Chart(Gender_Genre_Split_2).mark_bar().encode(\n",
    "    alt.Y('Proportion',\n",
    "        scale=alt.Scale(domain=(0, 110))\n",
    "    ),\n",
    "    x='Genre', \n",
    "    color='Gender'\n",
    "    \n",
    ").properties(\n",
    "     title= 'Proportional gender differences across genres')"
   ]
  },
  {
   "cell_type": "markdown",
   "id": "fd34dbdb",
   "metadata": {},
   "source": [
    "# Popularity and gender across the years- "
   ]
  },
  {
   "cell_type": "code",
   "execution_count": null,
   "id": "9c3a0e00",
   "metadata": {},
   "outputs": [],
   "source": [
    "gender_music_df_1"
   ]
  },
  {
   "cell_type": "code",
   "execution_count": null,
   "id": "e5003179",
   "metadata": {},
   "outputs": [],
   "source": [
    "Genre"
   ]
  },
  {
   "cell_type": "code",
   "execution_count": null,
   "id": "cac32ea7",
   "metadata": {},
   "outputs": [],
   "source": [
    "x= gender_music_df_1['release_date']\n",
    "Y= gender_music_df_1['popularity']"
   ]
  },
  {
   "cell_type": "markdown",
   "id": "eb7c15dc",
   "metadata": {},
   "source": [
    "Graphs below showing changes in popularity over time"
   ]
  },
  {
   "cell_type": "code",
   "execution_count": null,
   "id": "6ac58e81",
   "metadata": {},
   "outputs": [],
   "source": [
    "alt.Chart(gender_music_df_1).mark_line().encode(\n",
    "    alt.X('release_date',\n",
    "        scale=alt.Scale(domain=(2001, 2025))\n",
    "    ),\n",
    "    y='popularity', \n",
    "    \n",
    ").properties(\n",
    "     title= 'Popularity of African Music over time ')"
   ]
  },
  {
   "cell_type": "code",
   "execution_count": null,
   "id": "8e3946ef",
   "metadata": {
    "scrolled": true
   },
   "outputs": [],
   "source": [
    "alt.Chart(gender_music_df_1).mark_line().encode(\n",
    "    y='popularity',\n",
    "    x='release_date',\n",
    "    color='artist_top_genre'\n",
    ").properties(\n",
    "     title= 'Popularity of African music genres over time  ')"
   ]
  },
  {
   "cell_type": "code",
   "execution_count": null,
   "id": "f82b196c",
   "metadata": {
    "scrolled": false
   },
   "outputs": [],
   "source": [
    "alt.Chart(gender_music_df_1).mark_line().encode(\n",
    "    y='popularity',\n",
    "    x='release_date',\n",
    "    color='gender'\n",
    ").properties(\n",
    "     title= 'Popularity of African music over time  ')"
   ]
  },
  {
   "cell_type": "code",
   "execution_count": null,
   "id": "e309bb2f",
   "metadata": {
    "scrolled": false
   },
   "outputs": [],
   "source": [
    "alt.Chart(gender_music_df_1).mark_bar().encode(\n",
    "    y='popularity',\n",
    "    x='release_date',\n",
    "    color=alt.Color('artist_top_genre')\n",
    "\n",
    ").properties(\n",
    "     title= 'Popularity of African music genres over time ')"
   ]
  },
  {
   "cell_type": "markdown",
   "id": "ce234824",
   "metadata": {},
   "source": [
    "looking at individual genre changes of popularity"
   ]
  },
  {
   "cell_type": "code",
   "execution_count": null,
   "id": "a9e21ae2",
   "metadata": {},
   "outputs": [],
   "source": [
    "afro_dance= gender_music_df_1[(gender_music_df_1['artist_top_genre'] == 'afro dancehall')]\n",
    "afro_rb = gender_music_df_1[(gender_music_df_1['artist_top_genre'] == 'afro r&b')]\n",
    "afropop = gender_music_df_1[(gender_music_df_1['artist_top_genre'] == 'afropop')]\n",
    "afroswing = gender_music_df_1[(gender_music_df_1['artist_top_genre'] == 'afroswing')]\n",
    "altrnb = gender_music_df_1[(gender_music_df_1['artist_top_genre'] == 'alternative r&b')]\n",
    "azonto =gender_music_df_1[(gender_music_df_1['artist_top_genre'] == 'azonto')]\n",
    "azontobeats = gender_music_df_1[(gender_music_df_1['artist_top_genre'] == 'azontobears')]\n",
    "bongo_flava= gender_music_df_1[(gender_music_df_1['artist_top_genre'] == 'bongo flava')]\n",
    "christian_afrobeat = gender_music_df_1[(gender_music_df_1['artist_top_genre'] == 'christian afrobeat')]\n",
    "erotica= gender_music_df_1[(gender_music_df_1['artist_top_genre'] == 'erotica')]\n",
    "gqom= gender_music_df_1[(gender_music_df_1['artist_top_genre'] == 'gqom')]\n",
    "indie_rnb= gender_music_df_1[(gender_music_df_1['artist_top_genre'] == 'indi r&b')]\n",
    "nhiphop= gender_music_df_1[(gender_music_df_1['artist_top_genre'] == 'nigerian hip hop')]\n",
    "sftrock= gender_music_df_1[(gender_music_df_1['artist_top_genre'] == 'soft rock')]\n",
    "sahouse= gender_music_df_1[(gender_music_df_1['artist_top_genre'] == 'south african house')]\n",
    "\n",
    "afro_dance"
   ]
  },
  {
   "cell_type": "code",
   "execution_count": null,
   "id": "78448f2f",
   "metadata": {},
   "outputs": [],
   "source": [
    "alt.Chart(afro_dance).mark_bar().encode(\n",
    "    y='popularity',\n",
    "    x='release_date',\n",
    "\n",
    ")"
   ]
  },
  {
   "cell_type": "code",
   "execution_count": null,
   "id": "1fba1533",
   "metadata": {},
   "outputs": [],
   "source": [
    "alt.Chart(afro_rb).mark_bar().encode(\n",
    "    y='popularity',\n",
    "    x='release_date',\n",
    "\n",
    ")"
   ]
  },
  {
   "cell_type": "code",
   "execution_count": null,
   "id": "8f55a55e",
   "metadata": {},
   "outputs": [],
   "source": [
    "alt.Chart(afropop).mark_bar().encode(\n",
    "    y='popularity',\n",
    "    x='release_date',\n",
    "\n",
    ")"
   ]
  },
  {
   "cell_type": "code",
   "execution_count": null,
   "id": "3420efa5",
   "metadata": {},
   "outputs": [],
   "source": [
    "alt.Chart(afroswing).mark_bar().encode(\n",
    "    y='popularity',\n",
    "    x='release_date',\n",
    "\n",
    ")"
   ]
  },
  {
   "cell_type": "code",
   "execution_count": null,
   "id": "d5b3742d",
   "metadata": {
    "scrolled": true
   },
   "outputs": [],
   "source": [
    "alt.Chart(altrnb).mark_bar().encode(\n",
    "    y='popularity',\n",
    "    x='release_date',\n",
    "\n",
    ")"
   ]
  },
  {
   "cell_type": "code",
   "execution_count": null,
   "id": "83256534",
   "metadata": {},
   "outputs": [],
   "source": [
    "alt.Chart(azonto).mark_bar().encode(\n",
    "    y='popularity',\n",
    "    x='release_date',\n",
    "\n",
    ")"
   ]
  },
  {
   "cell_type": "code",
   "execution_count": null,
   "id": "f183ec90",
   "metadata": {},
   "outputs": [],
   "source": [
    "alt.Chart(azontobeats).mark_bar().encode(\n",
    "    y='popularity',\n",
    "    x='release_date',\n",
    "\n",
    ")"
   ]
  },
  {
   "cell_type": "code",
   "execution_count": null,
   "id": "a1ab9ac9",
   "metadata": {},
   "outputs": [],
   "source": [
    "alt.Chart(christian_afrobeat).mark_bar().encode(\n",
    "    y='popularity',\n",
    "    x='release_date',\n",
    "\n",
    ")"
   ]
  },
  {
   "cell_type": "code",
   "execution_count": null,
   "id": "3febc73f",
   "metadata": {
    "scrolled": true
   },
   "outputs": [],
   "source": [
    "alt.Chart(erotica).mark_bar().encode(\n",
    "    y='popularity',\n",
    "    x='release_date',\n",
    "\n",
    ")"
   ]
  },
  {
   "cell_type": "code",
   "execution_count": null,
   "id": "def9af7e",
   "metadata": {},
   "outputs": [],
   "source": [
    "alt.Chart(gqom).mark_bar().encode(\n",
    "    y='popularity',\n",
    "    x='release_date',\n",
    "\n",
    ")"
   ]
  },
  {
   "cell_type": "code",
   "execution_count": null,
   "id": "6ee13205",
   "metadata": {},
   "outputs": [],
   "source": [
    "alt.Chart(indie_rnb).mark_bar().encode(\n",
    "    y='popularity',\n",
    "    x='release_date',\n",
    "\n",
    ")"
   ]
  },
  {
   "cell_type": "code",
   "execution_count": null,
   "id": "c8e60e0e",
   "metadata": {},
   "outputs": [],
   "source": [
    "alt.Chart(nhiphop).mark_bar().encode(\n",
    "    y='popularity',\n",
    "    x='release_date',\n",
    "\n",
    ")"
   ]
  },
  {
   "cell_type": "code",
   "execution_count": null,
   "id": "be37d6a7",
   "metadata": {},
   "outputs": [],
   "source": [
    "alt.Chart(sftrock).mark_bar().encode(\n",
    "    y='popularity',\n",
    "    x='release_date',\n",
    "\n",
    ")"
   ]
  },
  {
   "cell_type": "code",
   "execution_count": null,
   "id": "832cc16c",
   "metadata": {},
   "outputs": [],
   "source": [
    "alt.Chart(sahouse).mark_bar().encode(\n",
    "    y='popularity',\n",
    "    x='release_date',\n",
    "\n",
    ")"
   ]
  },
  {
   "cell_type": "markdown",
   "id": "ea980ee3",
   "metadata": {},
   "source": [
    "Histogram for men and women popualirty across the years"
   ]
  },
  {
   "cell_type": "code",
   "execution_count": null,
   "id": "660796ba",
   "metadata": {
    "scrolled": true
   },
   "outputs": [],
   "source": [
    "alt.Chart(gender_music_df_1).mark_bar().encode(\n",
    "    y='popularity',\n",
    "    x='release_date',\n",
    "    color='gender')"
   ]
  }
 ],
 "metadata": {
  "kernelspec": {
   "display_name": "Python 3",
   "language": "python",
   "name": "python3"
  },
  "language_info": {
   "codemirror_mode": {
    "name": "ipython",
    "version": 3
   },
   "file_extension": ".py",
   "mimetype": "text/x-python",
   "name": "python",
   "nbconvert_exporter": "python",
   "pygments_lexer": "ipython3",
   "version": "3.8.8"
  }
 },
 "nbformat": 4,
 "nbformat_minor": 5
}
